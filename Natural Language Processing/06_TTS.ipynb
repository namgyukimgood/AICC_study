{
 "cells": [
  {
   "cell_type": "markdown",
   "id": "e5c3cf90-5b9d-4292-b2b5-7bdbe9c12b9e",
   "metadata": {},
   "source": [
    "# TTS(Text-to-Speech)\n",
    "    텍스트를 음성으로 변환하는 기술\n",
    "    컴퓨터가 인간의 목소리를 모방하여 텍스트 데이터를 자연스럽고 이해하기 쉬운 음성으로 변환\n",
    "    TTS는 다양한 애플리케이션에서 사용되며, 특히 접근성 향상, 음성 비서, 내비게이션 시스템, 교육, 엔터테인먼트 등의 분야에서 널리 활용\n",
    "\n",
    "## TTS의 주요 구성 요소\n",
    "### 텍스트 전처리 (Text Preprocessing)\n",
    "\t정규화 (Normalization): 약어, 숫자, 기호 등을 확장하여 텍스트를 표준 형식으로 변환합니다.\n",
    "\t문장 분리 (Sentence Segmentation): 긴 텍스트를 문장 단위로 분리합니다.\n",
    "\n",
    "### 언어 처리 (Linguistic Processing)\n",
    "\t품사 태깅 (Part-of-Speech Tagging): 각 단어의 품사를 식별합니다.\n",
    "\t구문 분석 (Syntax Parsing): 문장의 구조를 분석하여 문법적 관계를 파악합니다.\n",
    "\t강세 및 억양 (Prosody Generation): 적절한 강세와 억양을 생성합니다.\n",
    "\n",
    "### 음성 합성 (Speech Synthesis)\n",
    "\t음소 변환 (Phoneme Conversion): 텍스트를 음성 단위인 음소로 변환합니다.\n",
    "\t음성 생성 (Waveform Generation): 음소를 결합하여 최종 음성을 생성합니다.\n",
    "\n",
    "## TTS의 주요 기술\n",
    "### Concatenative Synthesis\n",
    "\t사전 녹음된 음성 조각을 조합하여 음성을 생성하는 방식입니다.\n",
    "\t장점: 자연스러운 음성을 생성할 수 있음.\n",
    "\t단점: 다양한 음성을 생성하기 위해 큰 음성 데이터베이스가 필요함.\n",
    "\n",
    "### Formant Synthesis\n",
    "\t인간의 성대와 구강 구조를 모델링하여 음성을 합성하는 방식입니다.\n",
    "\t장점: 작은 데이터베이스로 다양한 음성을 생성할 수 있음.\n",
    "\t단점: 음질이 자연스럽지 않을 수 있음.\n",
    "\n",
    "### Parametric Synthesis\n",
    "\t딥러닝 모델을 사용하여 음성 합성 파라미터를 생성하는 방식입니다.\n",
    "\t장점: 다양한 음성을 생성할 수 있으며, 자연스러운 음질을 제공함.\n",
    "\t단점: 모델 훈련에 많은 데이터와 연산 자원이 필요함.\n",
    "\n",
    "### Neural TTS\n",
    "\t최신 딥러닝 기술을 사용하여 텍스트를 음성으로 변환하는 방식입니다.\n",
    "\t예시: Tacotron, WaveNet.\n",
    "\t장점: 매우 자연스럽고 인간다운 음성을 생성할 수 있음.\n",
    "\t단점: 훈련에 많은 데이터와 연산 자원이 필요함.\n",
    "\n",
    "## TTS의 응용 분야\n",
    "### 접근성 향상\n",
    "\t시각 장애인이나 읽기 어려움을 겪는 사람들을 위해 텍스트를 음성으로 변환하여 제공.\n",
    "### 음성 비서\n",
    "\t스마트폰, 스마트 스피커, 자동차 내비게이션 시스템 등에서 음성 비서를 통해 사용자와 상호작용.\n",
    "### 교육 및 학습 도구\n",
    "\t외국어 학습, 발음 연습, 오디오북 등에서 활용.\n",
    "### 엔터테인먼트\n",
    "\t게임 캐릭터의 음성, 애니메이션 더빙 등."
   ]
  },
  {
   "cell_type": "markdown",
   "id": "45109bb5-72f9-4185-bf48-0758fd8840d6",
   "metadata": {},
   "source": [
    "## 주요 라이브러리와 서비스\n",
    "**gTTS (Google Text-to-Speech)**  \n",
    "    - Google의 TTS API를 사용하여 텍스트를 음성으로 변환  \n",
    "    - 무료로 사용 가능하며, 다양한 언어를 지원\n",
    "    \n",
    "**pyttsx3t**  \n",
    "    - 오프라인 TTS 라이브러리로, 인터넷 연결 없이 사용 가능  \n",
    "    - Windows, macOS, Linux를 지원\n",
    "\n",
    "**Amazon Polly**  \n",
    "    - Amazon Web Services(AWS)의 TTS 서비스로, 다양한 언어와 음성을 지원  \n",
    "\n",
    "**Microsoft Azure Cognitive Services**  \n",
    "    - Microsoft의 TTS 서비스로, 고품질 음성을 제공\n",
    "\n",
    "**IBM Watson Text to Speech**  \n",
    "    - IBM의 TTS 서비스로, 다양한 언어와 음성을 지원"
   ]
  },
  {
   "cell_type": "markdown",
   "id": "9abc544c-2167-4269-b341-23b6c9e2259e",
   "metadata": {},
   "source": [
    "# gTTS 라이브러리 활용\n",
    "\n",
    "## gTTS(Google Text-to-Speech)\n",
    "    Google의 TTS API를 사용\n",
    "    무료로 사용 가능하며, 다양한 언어를 지원\n",
    "\n",
    "    1. 접근성 개선\n",
    "        시각 장애인 지원 - 스크린 리더(Screen Reader)\n",
    "    \t\t웹 사이트의 텍스트 콘텐츠를 음성으로 변환하여 시각 장애인이 웹 서비스를 차별 없이 이용할 수 있게 함\n",
    "    \t읽기 어려움 지원\n",
    "    \t\t텍스트 읽기에 어려움을 겪는 사용자를 위한 음성 출력 기능을 제공\n",
    "\n",
    "    2. 언어 학습 도구\n",
    "    \t발음 연습\n",
    "    \t\t텍스트의 발음을 제공하여 언어 학습자가 올바른 발음 연습을 도움\n",
    "    \t듣기 연습\n",
    "    \t\t학습자가 텍스트를 듣고 이해할 수 있도록 음성 변환을 제공\n",
    "\n",
    "    3. 오디오북 생성\n",
    "    \t텍스트 콘텐츠의 오디오북 변환\n",
    "    \t\t블로그 게시물, 기사, 책 등 긴 텍스트를 오디오북 형태로 변환하여 사용자에게 제공\n",
    "\n",
    "    4. 음성 기반 알림\n",
    "    \t음성 알림 시스템\n",
    "    \t\t일정, 작업, 알림 등을 음성으로 전달하여 사용자가 중요한 정보를 인지할 수 있도록 함\n",
    "\n",
    "    5. 고객 지원 서비스\n",
    "    \t자동 응답 시스템\n",
    "    \t\t고객 지원 FAQ나 특정 질문에 대해 음성 응답을 제공\n",
    "    \t콜센터 보조\n",
    "    \t\t콜센터에서 텍스트 기반 정보를 음성으로 변환하여 상담원이 고객에게 정보를 제공\n",
    "\n",
    "    6. 교육 및 학습 자료\n",
    "    \t강의 자료 음성화\n",
    "    \t\t온라인 강의 자료를 음성으로 변환하여 학습자에게 제공\n",
    "    \t인터랙티브 퀴즈\n",
    "    \t\t퀴즈 질문을 음성으로 제공하고, 사용자가 음성으로 응답할 수 있도록 함"
   ]
  },
  {
   "attachments": {},
   "cell_type": "markdown",
   "id": "faea07a2-1edd-47ce-bb60-5107a63feabe",
   "metadata": {},
   "source": [
    "### 오디오 재생 방법\n",
    "- pygame\n",
    "- pydub 및 simpleaudio\n",
    "- playsound\n",
    "- sounddevice\n",
    "- vlc\n",
    "- winsound\n",
    "\n",
    "### 예제에서는 pydub와 simpleaudio사용"
   ]
  },
  {
   "cell_type": "code",
   "execution_count": 6,
   "id": "d8bc2e82-5ae9-4f93-a850-d8f5abf2325a",
   "metadata": {},
   "outputs": [
    {
     "name": "stdout",
     "output_type": "stream",
     "text": [
      "Requirement already satisfied: speechrecognition in c:\\users\\ruru\\anaconda3\\lib\\site-packages (3.10.4)\n",
      "Requirement already satisfied: gtts in c:\\users\\ruru\\anaconda3\\lib\\site-packages (2.5.2)\n",
      "Requirement already satisfied: playsound in c:\\users\\ruru\\anaconda3\\lib\\site-packages (1.3.0)\n",
      "Requirement already satisfied: requests>=2.26.0 in c:\\users\\ruru\\anaconda3\\lib\\site-packages (from speechrecognition) (2.32.2)\n",
      "Requirement already satisfied: typing-extensions in c:\\users\\ruru\\anaconda3\\lib\\site-packages (from speechrecognition) (4.11.0)\n",
      "Requirement already satisfied: click<8.2,>=7.1 in c:\\users\\ruru\\anaconda3\\lib\\site-packages (from gtts) (8.1.7)\n",
      "Requirement already satisfied: colorama in c:\\users\\ruru\\anaconda3\\lib\\site-packages (from click<8.2,>=7.1->gtts) (0.4.6)\n",
      "Requirement already satisfied: charset-normalizer<4,>=2 in c:\\users\\ruru\\anaconda3\\lib\\site-packages (from requests>=2.26.0->speechrecognition) (2.0.4)\n",
      "Requirement already satisfied: idna<4,>=2.5 in c:\\users\\ruru\\anaconda3\\lib\\site-packages (from requests>=2.26.0->speechrecognition) (3.7)\n",
      "Requirement already satisfied: urllib3<3,>=1.21.1 in c:\\users\\ruru\\anaconda3\\lib\\site-packages (from requests>=2.26.0->speechrecognition) (2.2.2)\n",
      "Requirement already satisfied: certifi>=2017.4.17 in c:\\users\\ruru\\anaconda3\\lib\\site-packages (from requests>=2.26.0->speechrecognition) (2024.6.2)\n"
     ]
    }
   ],
   "source": [
    "!pip install gtts pydub simpleaudio"
   ]
  },
  {
   "cell_type": "markdown",
   "id": "9439d654-22ba-4b7e-9543-bdac49a3fa43",
   "metadata": {},
   "source": [
    "### TTS와 음성 재생 예시\n",
    "- gTTS가 텍스트를 음성으로 합성하여 음성파일 생성\n",
    "- pydub와 simpleaudio사용하여 재생"
   ]
  },
  {
   "cell_type": "code",
   "execution_count": 12,
   "id": "0a16da60-8712-4f56-b0b1-6d592825a80e",
   "metadata": {},
   "outputs": [],
   "source": [
    "from gtts import gTTS\n",
    "from pydub import AudioSegment\n",
    "from pydub.playback import play\n",
    "import os\n",
    "\n",
    "def speak(text):\n",
    "    tts = gTTS(text=text, lang='ko')\n",
    "    filename = 'voice.mp3'\n",
    "    tts.save(filename)\n",
    "\n",
    "    # Load the MP3 file\n",
    "    audio = AudioSegment.from_mp3(filename)\n",
    "\n",
    "    # Play the audio file\n",
    "    play(audio)\n",
    "\n",
    "    # Clean up the file\n",
    "    os.remove(filename)\n",
    "\n",
    "speak(\"안녕하세요. 길동씨\")"
   ]
  },
  {
   "attachments": {
    "9228bba2-65e1-4a74-87cb-23dcb1a46e62.png": {
     "image/png": "[encoded data removed]"
    }
   },
   "cell_type": "markdown",
   "id": "a7ce4597-7236-447a-a7ae-b18e02aa4351",
   "metadata": {},
   "source": [
    "## FnQ 시스템 활용 예시\n",
    "\n",
    "### 데이터베이스 대신 json파일로 FnQ데이터 준비\n",
    "![image.png](attachment:9228bba2-65e1-4a74-87cb-23dcb1a46e62.png)"
   ]
  },
  {
   "cell_type": "code",
   "execution_count": 13,
   "id": "156fb803-6b59-4518-8ebe-55488aacdaec",
   "metadata": {},
   "outputs": [],
   "source": [
    "import json\n",
    "from gtts import gTTS\n",
    "from pydub import AudioSegment\n",
    "from pydub.playback import play\n",
    "import os\n",
    "\n",
    "# JSON 파일에서 FAQ를 읽어오는 함수\n",
    "def load_faqs(file_path):\n",
    "    with open(file_path, 'r', encoding='utf-8') as file:\n",
    "        data = json.load(file)\n",
    "    return data['faqs']\n",
    "\n",
    "# 질문에 대한 답변을 찾는 함수\n",
    "def find_answer(question, faqs):\n",
    "    for faq in faqs:\n",
    "        if faq['question'] == question:\n",
    "            return faq['answer']\n",
    "    return -1\n",
    "\n",
    "# 텍스트를 음성으로 변환하고 재생하는 함수\n",
    "def text_to_speech(text, lang='ko'):\n",
    "    tts = gTTS(text=text, lang=lang)\n",
    "    filename = 'tmp_speek_voice.mp3'\n",
    "    tts.save(filename)\n",
    "    audio = AudioSegment.from_mp3(filename)\n",
    "    play(audio)\n",
    "    os.remove(filename)"
   ]
  },
  {
   "cell_type": "code",
   "execution_count": 14,
   "id": "69dcbc1f-6472-4596-8597-4bf2559633b5",
   "metadata": {},
   "outputs": [
    {
     "name": "stdin",
     "output_type": "stream",
     "text": [
      "질문 입력:  회원 가입을 해야만 주문할 수 있나요?\n"
     ]
    },
    {
     "name": "stdout",
     "output_type": "stream",
     "text": [
      "답변:  아니요, 비회원으로도 주문이 가능합니다. 그러나 회원으로 가입하시면 주문 내역 조회, 빠른 결제 등의 혜택을 누리실 수 있습니다.\n",
      "종료\n"
     ]
    }
   ],
   "source": [
    "faqs = load_faqs('faqs.json')\n",
    "question = input(\"질문 입력: \")\n",
    "# 회원 가입을 해야만 주문할 수 있나요?\n",
    "answer = find_answer(question, faqs)\n",
    "if answer == -1:\n",
    "    print('답변을 찾을 수 없습니다.')\n",
    "else:\n",
    "    print(\"답변: \", answer)\n",
    "    text_to_speech(answer)\n",
    "\n",
    "print('종료')"
   ]
  },
  {
   "cell_type": "markdown",
   "id": "97073e9f-b54a-496a-a106-f92909cb3c6c",
   "metadata": {},
   "source": [
    "#### 결과\n",
    "- 질문이 동일해야만 답변을 찾을 수 있음\n",
    "- 문장의 부분을 가지고 유추하는 것처럼 답변을 찾을 수 있게 하려면 문장 유사도를 이용해볼 수 있음"
   ]
  },
  {
   "cell_type": "markdown",
   "id": "3b4e2413-fdd3-4a20-ae63-b43087901fcc",
   "metadata": {},
   "source": [
    "## 문장 유사도를 활용하여 비슷한 질문에 대한 답변이 가능하게 수정\n",
    "### fuzzywuzzy 사용\n",
    "\t문자열 간의 유사도를 비교하는 라이브러리\n",
    "\tfuzzywuzzy[speedup]는 Python 라이브러리 fuzzywuzzy에 속하는 추가 기능\n",
    "\t두 문자열이 얼마나 유사한지를 정량적으로 평가할 수 있음\n",
    "\tfuzzywuzzy[speedup]는 이러한 유사도 계산을 더 빠르게 수행하기 위한 선택적 설치 패키지\n",
    "\n",
    "### 주요 기능 및 역할\n",
    "#### 문자열 유사도 계산\n",
    "\tfuzzywuzzy는 Levenshtein Distance(레이벤슈타인 거리)를 기반으로 문자열 유사도를 계산\n",
    "\tLevenshtein Distance는 두 문자열 사이의 최소 편집 거리를 의미\n",
    "\t삽입, 삭제, 교체 작업을 통해 한 문자열을 다른 문자열로 변환하는 데 필요한 최소 작업 수를 계산\n",
    "\n",
    "#### 빠른 연산을 위한 최적화\n",
    "\tfuzzywuzzy[speedup]는 python-Levenshtein 라이브러리를 사용하여 유사도 계산을 최적화\n",
    "\tpython-Levenshtein은 C로 구현된 고성능 레이벤슈타인 거리 계산 라이브러리로, 순수 Python 구현보다 훨씬 빠름"
   ]
  },
  {
   "cell_type": "code",
   "execution_count": 17,
   "id": "79df0b42-acd3-45fb-8e8b-b0aebb633549",
   "metadata": {},
   "outputs": [
    {
     "name": "stdout",
     "output_type": "stream",
     "text": [
      "Collecting fuzzywuzzy[speedup]\n",
      "  Downloading fuzzywuzzy-0.18.0-py2.py3-none-any.whl.metadata (4.9 kB)\n",
      "Collecting python-levenshtein>=0.12 (from fuzzywuzzy[speedup])\n",
      "  Downloading python_Levenshtein-0.25.1-py3-none-any.whl.metadata (3.7 kB)\n",
      "Collecting Levenshtein==0.25.1 (from python-levenshtein>=0.12->fuzzywuzzy[speedup])\n",
      "  Downloading Levenshtein-0.25.1-cp312-cp312-win_amd64.whl.metadata (3.4 kB)\n",
      "Collecting rapidfuzz<4.0.0,>=3.8.0 (from Levenshtein==0.25.1->python-levenshtein>=0.12->fuzzywuzzy[speedup])\n",
      "  Downloading rapidfuzz-3.9.5-cp312-cp312-win_amd64.whl.metadata (12 kB)\n",
      "Downloading python_Levenshtein-0.25.1-py3-none-any.whl (9.4 kB)\n",
      "Downloading Levenshtein-0.25.1-cp312-cp312-win_amd64.whl (98 kB)\n",
      "   ---------------------------------------- 0.0/98.6 kB ? eta -:--:--\n",
      "   ---- ----------------------------------- 10.2/98.6 kB ? eta -:--:--\n",
      "   ---- ----------------------------------- 10.2/98.6 kB ? eta -:--:--\n",
      "   ---------------- ----------------------- 41.0/98.6 kB 245.8 kB/s eta 0:00:01\n",
      "   ------------------------ --------------- 61.4/98.6 kB 365.7 kB/s eta 0:00:01\n",
      "   ---------------------------------------- 98.6/98.6 kB 472.4 kB/s eta 0:00:00\n",
      "Downloading fuzzywuzzy-0.18.0-py2.py3-none-any.whl (18 kB)\n",
      "Downloading rapidfuzz-3.9.5-cp312-cp312-win_amd64.whl (1.6 MB)\n",
      "   ---------------------------------------- 0.0/1.6 MB ? eta -:--:--\n",
      "   --------------------- ------------------ 0.9/1.6 MB 18.5 MB/s eta 0:00:01\n",
      "   ---------------------------------------  1.6/1.6 MB 17.2 MB/s eta 0:00:01\n",
      "   ---------------------------------------- 1.6/1.6 MB 13.1 MB/s eta 0:00:00\n",
      "Installing collected packages: fuzzywuzzy, rapidfuzz, Levenshtein, python-levenshtein\n",
      "Successfully installed Levenshtein-0.25.1 fuzzywuzzy-0.18.0 python-levenshtein-0.25.1 rapidfuzz-3.9.5\n"
     ]
    }
   ],
   "source": [
    "# fuzzywuzzy와 python-Levenshtein을 함께 설치(따로 설치 가능)\n",
    "!pip install fuzzywuzzy[speedup]"
   ]
  },
  {
   "cell_type": "code",
   "execution_count": 15,
   "id": "686f47cc-dbfa-4a09-9477-e4652c9e779f",
   "metadata": {},
   "outputs": [],
   "source": [
    "import json\n",
    "from fuzzywuzzy import process\n",
    "from gtts import gTTS\n",
    "from pydub import AudioSegment\n",
    "from pydub.playback import play\n",
    "import os\n",
    "\n",
    "# JSON 파일에서 FAQ를 읽어오는 함수\n",
    "def load_faqs(file_path):\n",
    "    with open(file_path, 'r', encoding='utf-8') as file:\n",
    "        data = json.load(file)\n",
    "    return data['faqs']\n",
    "\n",
    "# 질문에 대한 답변을 찾는 함수\n",
    "def find_best_match(question, faqs):\n",
    "    questions = [faq['question'] for faq in faqs]\n",
    "    best_match, score = process.extractOne(question, questions)\n",
    "    if score >= 30:  # 유사도 임계값 설정(일치하는 정도)\n",
    "        for faq in faqs:\n",
    "            if faq['question'] == best_match:\n",
    "                return faq['answer']\n",
    "    return -1  # 질문에 대한 답변을 못 찾은 경우\n",
    "\n",
    "# 텍스트를 음성으로 변환하고 재생하는 함수\n",
    "def text_to_speech(text, lang='ko'):\n",
    "    tts = gTTS(text=text, lang=lang)\n",
    "    filename = 'tmp_speek_voice.mp3'\n",
    "    tts.save(filename)\n",
    "    audio = AudioSegment.from_mp3(filename)\n",
    "    play(audio)\n",
    "    os.remove(filename)"
   ]
  },
  {
   "cell_type": "code",
   "execution_count": 17,
   "id": "01e34661-3690-44eb-b5db-5f480517a3e9",
   "metadata": {},
   "outputs": [
    {
     "name": "stdin",
     "output_type": "stream",
     "text": [
      "질문 입력:  배송은 어떻게\n"
     ]
    },
    {
     "name": "stdout",
     "output_type": "stream",
     "text": [
      "답변:  원하는 상품을 선택한 후 '장바구니에 담기' 버튼을 클릭하세요. 장바구니에서 '결제하기' 버튼을 눌러 결제 페이지로 이동한 후, 배송 정보와 결제 정보를 입력하여 주문을 완료할 수 있습니다.\n",
      "종료\n"
     ]
    }
   ],
   "source": [
    "faqs = load_faqs('faqs.json')\n",
    "question = input(\"질문 입력: \")\n",
    "answer = find_best_match(question, faqs)\n",
    "if answer == -1:\n",
    "    print('답변을 찾을 수 없습니다.')\n",
    "else:\n",
    "    print(\"답변: \", answer)\n",
    "    text_to_speech(answer)\n",
    "print('종료')"
   ]
  },
  {
   "cell_type": "markdown",
   "id": "5b0c6747-11bd-40d2-85f8-72bd63eae148",
   "metadata": {},
   "source": [
    "### 직접 해보기\n",
    "#### 텍스트를 음성으로 제공하면 유용할만한 다양한 서비스 예시들을 만들어보기\n",
    "- 시각 장애인을 위한 서비스\n",
    "- 오디오북\n",
    "- 음성 알림\n",
    "- 고객 지원"
   ]
  }
 ],
 "metadata": {
  "kernelspec": {
   "display_name": "Python 3 (ipykernel)",
   "language": "python",
   "name": "python3"
  },
  "language_info": {
   "codemirror_mode": {
    "name": "ipython",
    "version": 3
   },
   "file_extension": ".py",
   "mimetype": "text/x-python",
   "name": "python",
   "nbconvert_exporter": "python",
   "pygments_lexer": "ipython3",
   "version": "3.12.4"
  }
 },
 "nbformat": 4,
 "nbformat_minor": 5
}
