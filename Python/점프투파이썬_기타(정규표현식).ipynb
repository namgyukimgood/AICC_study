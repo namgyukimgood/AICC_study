{
 "cells": [
  {
   "cell_type": "code",
   "execution_count": 18,
   "id": "76af8d79",
   "metadata": {},
   "outputs": [],
   "source": [
    "data = \"\"\"\n",
    "park 800905-1049118\n",
    "kim  700905-1059119\n",
    "\"\"\""
   ]
  },
  {
   "cell_type": "code",
   "execution_count": 19,
   "id": "b2a03b75",
   "metadata": {},
   "outputs": [
    {
     "data": {
      "text/plain": [
       "'\\npark 800905-1049118\\nkim  700905-1059119\\n'"
      ]
     },
     "execution_count": 19,
     "metadata": {},
     "output_type": "execute_result"
    }
   ],
   "source": [
    "data"
   ]
  },
  {
   "cell_type": "code",
   "execution_count": 3,
   "id": "b49a36b1",
   "metadata": {},
   "outputs": [],
   "source": [
    "result = []"
   ]
  },
  {
   "cell_type": "code",
   "execution_count": 4,
   "id": "2d85467e",
   "metadata": {},
   "outputs": [],
   "source": [
    "for line in data.split(\"\\n\"):\n",
    "    word_result = []\n",
    "    for word in line.split(\" \"):\n",
    "        if len(word) == 14 and word[:6].isdigit() and word[7:].isdigit():\n",
    "            word = word[:6] + \"-\" + \"*******\"\n",
    "        word_result.append(word)\n",
    "    result.append(\" \".join(word_result))"
   ]
  },
  {
   "cell_type": "code",
   "execution_count": 5,
   "id": "62b4c94a",
   "metadata": {},
   "outputs": [
    {
     "name": "stdout",
     "output_type": "stream",
     "text": [
      "\n",
      "park 800905-*******\n",
      "kim  700905-*******\n",
      "\n"
     ]
    }
   ],
   "source": [
    "print(\"\\n\".join(result))"
   ]
  },
  {
   "cell_type": "code",
   "execution_count": null,
   "id": "b94c7155",
   "metadata": {},
   "outputs": [],
   "source": []
  },
  {
   "cell_type": "markdown",
   "id": "f7e4ac4e",
   "metadata": {},
   "source": [
    "# Step.1:  문자열 교체"
   ]
  },
  {
   "cell_type": "code",
   "execution_count": 34,
   "id": "88b174e0",
   "metadata": {},
   "outputs": [],
   "source": [
    "name1 = \"park 800905-1049118\"\n",
    "\n",
    "# park 800905-*******"
   ]
  },
  {
   "cell_type": "code",
   "execution_count": 35,
   "id": "3c4d543a",
   "metadata": {},
   "outputs": [
    {
     "data": {
      "text/plain": [
       "'park 800905-*******'"
      ]
     },
     "execution_count": 35,
     "metadata": {},
     "output_type": "execute_result"
    }
   ],
   "source": [
    "loc = name1.index('-')+1\n",
    "name1[0:loc] + \"*\"*7"
   ]
  },
  {
   "cell_type": "code",
   "execution_count": 36,
   "id": "9951eb38",
   "metadata": {},
   "outputs": [],
   "source": [
    "name2 = \"kim  700905-1059119\"\n",
    "\n",
    "#kim  700905-*******"
   ]
  },
  {
   "cell_type": "code",
   "execution_count": 37,
   "id": "d4eb703f",
   "metadata": {},
   "outputs": [
    {
     "data": {
      "text/plain": [
       "'park 800905-*******'"
      ]
     },
     "execution_count": 37,
     "metadata": {},
     "output_type": "execute_result"
    }
   ],
   "source": [
    "loc = name2.index('-')+1\n",
    "name1[0:loc] + \"*\"*7"
   ]
  },
  {
   "cell_type": "markdown",
   "id": "86b32b8a",
   "metadata": {},
   "source": [
    "# Step.2 : 여러 데이터 처리"
   ]
  },
  {
   "cell_type": "code",
   "execution_count": 80,
   "id": "a0b92a5b",
   "metadata": {},
   "outputs": [],
   "source": [
    "data = \"\"\"\n",
    "park 800905-1049118\n",
    "kim  700905-1059119\n",
    "\"\"\""
   ]
  },
  {
   "cell_type": "code",
   "execution_count": 72,
   "id": "ad717ed3",
   "metadata": {},
   "outputs": [
    {
     "data": {
      "text/plain": [
       "'\\npark 800905-1049118\\nkim  700905-1059119\\n'"
      ]
     },
     "execution_count": 72,
     "metadata": {},
     "output_type": "execute_result"
    }
   ],
   "source": [
    "data"
   ]
  },
  {
   "cell_type": "code",
   "execution_count": 87,
   "id": "2fe06192",
   "metadata": {},
   "outputs": [
    {
     "data": {
      "text/plain": [
       "['park 800905-1049118', 'kim  700905-1059119']"
      ]
     },
     "execution_count": 87,
     "metadata": {},
     "output_type": "execute_result"
    }
   ],
   "source": [
    "data_list = data.split(\"\\n\")\n",
    "data_list[1:-1] ##후보코드"
   ]
  },
  {
   "cell_type": "code",
   "execution_count": 88,
   "id": "a9d4d76f",
   "metadata": {},
   "outputs": [
    {
     "data": {
      "text/plain": [
       "['', 'park 800905-1049118', 'kim  700905-1059119', '']"
      ]
     },
     "execution_count": 88,
     "metadata": {},
     "output_type": "execute_result"
    }
   ],
   "source": [
    "data_list"
   ]
  },
  {
   "cell_type": "code",
   "execution_count": 79,
   "id": "3a20bc9a",
   "metadata": {},
   "outputs": [],
   "source": [
    "#data_list.remove('')\n",
    "#data_list.pop('')"
   ]
  },
  {
   "cell_type": "code",
   "execution_count": 76,
   "id": "ddc7399b",
   "metadata": {},
   "outputs": [
    {
     "data": {
      "text/plain": [
       "['park 800905-1049118', 'kim  700905-1059119', '']"
      ]
     },
     "execution_count": 76,
     "metadata": {},
     "output_type": "execute_result"
    }
   ],
   "source": [
    "data_list"
   ]
  },
  {
   "cell_type": "code",
   "execution_count": 41,
   "id": "848b5f69",
   "metadata": {},
   "outputs": [],
   "source": [
    "## data_list = ['park 800905-1049118', 'kim  700905-1059119']"
   ]
  },
  {
   "cell_type": "code",
   "execution_count": 39,
   "id": "110b6786",
   "metadata": {},
   "outputs": [
    {
     "data": {
      "text/plain": [
       "'\\npark 800905-1049118\\nkim  700905-1059119\\n'"
      ]
     },
     "execution_count": 39,
     "metadata": {},
     "output_type": "execute_result"
    }
   ],
   "source": [
    "data"
   ]
  },
  {
   "cell_type": "code",
   "execution_count": 94,
   "id": "6f1f6bf8",
   "metadata": {},
   "outputs": [
    {
     "name": "stdout",
     "output_type": "stream",
     "text": [
      "park 800905-*******\n",
      "kim  700905-*******\n"
     ]
    }
   ],
   "source": [
    "for name in data_list:\n",
    "    if len(name)>0:\n",
    "        loc = name.index('-')+1\n",
    "        rslt = name[0:loc] + \"*\"*7\n",
    "        print(rslt)"
   ]
  },
  {
   "cell_type": "code",
   "execution_count": null,
   "id": "1243a25c",
   "metadata": {},
   "outputs": [],
   "source": []
  },
  {
   "cell_type": "code",
   "execution_count": null,
   "id": "be9def8a",
   "metadata": {},
   "outputs": [],
   "source": []
  },
  {
   "cell_type": "code",
   "execution_count": 95,
   "id": "221e40dd",
   "metadata": {},
   "outputs": [],
   "source": [
    "data = \"\"\"\n",
    "park 800905-1049118\n",
    "kim  700905-1059119\n",
    "\"\"\""
   ]
  },
  {
   "cell_type": "code",
   "execution_count": 96,
   "id": "94e0b966",
   "metadata": {},
   "outputs": [],
   "source": [
    "result = []"
   ]
  },
  {
   "cell_type": "code",
   "execution_count": 99,
   "id": "b2ae30da",
   "metadata": {},
   "outputs": [],
   "source": [
    "word = '700905-1059119'"
   ]
  },
  {
   "cell_type": "code",
   "execution_count": 100,
   "id": "8bdfbd9b",
   "metadata": {},
   "outputs": [],
   "source": [
    "line = 'kim  700905-1059119'"
   ]
  },
  {
   "cell_type": "code",
   "execution_count": 103,
   "id": "646c5757",
   "metadata": {},
   "outputs": [
    {
     "data": {
      "text/plain": [
       "'1059119'"
      ]
     },
     "execution_count": 103,
     "metadata": {},
     "output_type": "execute_result"
    }
   ],
   "source": [
    "word[7:]"
   ]
  },
  {
   "cell_type": "code",
   "execution_count": 97,
   "id": "03c02c21",
   "metadata": {},
   "outputs": [],
   "source": [
    "for line in data.split(\"\\n\"):\n",
    "    word_result = []\n",
    "    for word in line.split(\" \"):\n",
    "        if len(word) == 14 and word[:6].isdigit() and word[7:].isdigit():\n",
    "            word = word[:6] + \"-\" + \"*******\"\n",
    "        word_result.append(word)\n",
    "    result.append(\" \".join(word_result))"
   ]
  },
  {
   "cell_type": "code",
   "execution_count": 98,
   "id": "65b40a95",
   "metadata": {},
   "outputs": [
    {
     "name": "stdout",
     "output_type": "stream",
     "text": [
      "\n",
      "park 800905-*******\n",
      "kim  700905-*******\n",
      "\n"
     ]
    }
   ],
   "source": [
    "print(\"\\n\".join(result))"
   ]
  },
  {
   "cell_type": "code",
   "execution_count": null,
   "id": "23d731d0",
   "metadata": {},
   "outputs": [],
   "source": []
  },
  {
   "cell_type": "code",
   "execution_count": null,
   "id": "937a18e6",
   "metadata": {},
   "outputs": [],
   "source": []
  },
  {
   "cell_type": "markdown",
   "id": "d3ee8463",
   "metadata": {},
   "source": [
    "# 정규표현식 (고급, 선택적)"
   ]
  },
  {
   "cell_type": "code",
   "execution_count": 104,
   "id": "165299d0",
   "metadata": {},
   "outputs": [],
   "source": [
    "import re "
   ]
  },
  {
   "cell_type": "code",
   "execution_count": 124,
   "id": "14be19bd",
   "metadata": {},
   "outputs": [],
   "source": [
    "data = \"\"\"\n",
    "park 800905-1049118\n",
    "kim  700905-1059119\n",
    "park 800905-1049118\n",
    "kim  700905-1059119\n",
    "park 800905-1049118\n",
    "kim  700905-1059119\n",
    "\"\"\""
   ]
  },
  {
   "cell_type": "code",
   "execution_count": 125,
   "id": "fd77d701",
   "metadata": {},
   "outputs": [
    {
     "data": {
      "text/plain": [
       "'\\npark 800905-1049118\\nkim  700905-1059119\\npark 800905-1049118\\nkim  700905-1059119\\npark 800905-1049118\\nkim  700905-1059119\\n'"
      ]
     },
     "execution_count": 125,
     "metadata": {},
     "output_type": "execute_result"
    }
   ],
   "source": [
    "data"
   ]
  },
  {
   "cell_type": "markdown",
   "id": "7d5e183d",
   "metadata": {},
   "source": [
    "- (\\d{6}): 이 부분은 여섯 자리 숫자를 포함하는 그룹을 나타냅니다. \n",
    "- \\d는 숫자를 나타내며, {6}는 앞선 표현식이 여섯 번 연속해서 나타남을 의미합니다.     \n",
    "이는 주어진 텍스트에서 여섯 자리 숫자를 찾습니다.\n",
    "- [-]: 이 부분은 하이픈 -을 나타냅니다. -는 특수문자로서 직접적으로 사용됩니다.\n",
    "- \\d{7}: 이 부분은 일곱 자리 숫자를 나타냅니다. \n",
    "- \\d는 숫자를 나타내며, {7}는 앞선 표현식이 일곱 번 연속해서 나타남을 의미합니다.    \n",
    "이는 주어진 텍스트에서 일곱 자리 숫자를 찾습니다.\n",
    "\n",
    "따라서 이 정규 표현식은 주어진 텍스트에서 \"여섯 자리 숫자-일곱 자리 숫자\" 패턴을 찾습니다. 주로 주민등록번호 같은 형식을 찾을 때 사용될 수 있습니다."
   ]
  },
  {
   "cell_type": "code",
   "execution_count": 126,
   "id": "7c07d325",
   "metadata": {},
   "outputs": [
    {
     "data": {
      "text/plain": [
       "re.compile(r'(\\d{6})[-]\\d{7}', re.UNICODE)"
      ]
     },
     "execution_count": 126,
     "metadata": {},
     "output_type": "execute_result"
    }
   ],
   "source": [
    "pat = re.compile(\"(\\d{6})[-]\\d{7}\")\n",
    "pat"
   ]
  },
  {
   "cell_type": "markdown",
   "id": "ac3c1000",
   "metadata": {},
   "source": [
    "- \\g<1>은 정규 표현식에서 그룹에 대한 참조를 나타냅니다.     \n",
    "여기서는 패턴 안에서 첫 번째로 정의된 그룹을 의미합니다.    \n",
    "정규 표현식 패턴 \"(\\d{6})[-]\\d{7}\"에서는 ( ... )로 감싸인 \\d{6}에 해당하는 부분이 첫 번째 그룹이며, 이는 여섯 자리의 숫자에 해당합니다.    \n",
    "re.sub() 함수의 첫 번째 인자로 사용되는 \"(\\g<1>)-*******\"는 다음과 같은 의미를 가집니다:    \n",
    "- \\g<1>: 첫 번째 그룹을 가리킵니다. 즉, 여섯 자리의 숫자 부분을 의미합니다.\n",
    "- -: 하이픈입니다. 그룹 1 다음에 하이픈을 추가합니다.\n",
    "- *******: 별표(*)가 7개 있는 문자열입니다. 이것은 주민등록번호 뒷부분을 숨기기 위한 것입니다.     \n",
    "따라서 re.sub() 함수는 주어진 문자열에서 패턴에 일치하는 부분을 찾아서 해당 부분을 그룹 1인 여섯 자리 숫자, 하이픈, 그리고 7개의 별표로 대체합니다."
   ]
  },
  {
   "cell_type": "code",
   "execution_count": 131,
   "id": "6e454a1c",
   "metadata": {},
   "outputs": [
    {
     "name": "stdout",
     "output_type": "stream",
     "text": [
      "\n",
      "park 800905-*******\n",
      "kim  700905-*******\n",
      "park 800905-*******\n",
      "kim  700905-*******\n",
      "park 800905-*******\n",
      "kim  700905-*******\n",
      "\n"
     ]
    }
   ],
   "source": [
    "print(pat.sub(\"\\g<1>-*******\", data))"
   ]
  },
  {
   "cell_type": "code",
   "execution_count": null,
   "id": "622ec4c2",
   "metadata": {},
   "outputs": [],
   "source": []
  },
  {
   "cell_type": "markdown",
   "id": "8ba52418",
   "metadata": {},
   "source": [
    "- (\\w+): 이 부분은 하나 이상의 알파벳 문자나 숫자를 나타내는 그룹입니다. \n",
    "- \\w는 알파벳 문자나 숫자를 의미하고, +는 앞의 표현식이 하나 이상의 문자와 매치됨을 의미합니다.   \n",
    "따라서 이 표현식은 이름이나 단어와 같은 문자열을 찾습니다.\n",
    "- \\s+: 이 부분은 하나 이상의 공백 문자를 나타냅니다. \n",
    "- \\s는 공백 문자를 의미하고, \n",
    "- +는 하나 이상의 공백 문자와 매치됨을 의미합니다.     \n",
    "따라서 이 표현식은 공백을 찾습니다.    \n",
    "- \\d+: 이 부분은 하나 이상의 숫자를 나타냅니다. \n",
    "- \\d는 숫자를 의미하고, \n",
    "- +는 하나 이상의 숫자와 매치됨을 의미합니다.    \n",
    "따라서 이 표현식은 숫자를 찾습니다.\n",
    "- [-]: 이 부분은 하이픈 기호 -를 나타냅니다. -는 특수 문자로 직접 사용됩니다.    \n",
    "\n",
    "따라서 이 정규 표현식은 주어진 텍스트에서 \"알파벳 문자나 숫자로 이루어진 문자열 + 하나 이상의 공백 + 숫자 + 하이픈 + 숫자 + 하이픈 + 숫자\"와 같은 패턴을 찾습니다. 주로 이름과 전화번호와 같은 형식의 문자열을 찾을 때 사용될 수 있습니다."
   ]
  },
  {
   "cell_type": "code",
   "execution_count": 132,
   "id": "531c02d4",
   "metadata": {},
   "outputs": [],
   "source": [
    "p = re.compile(r\"(\\w+)\\s+\\d+[-]\\d+[-]\\d+\")"
   ]
  },
  {
   "cell_type": "code",
   "execution_count": 117,
   "id": "97c0dc4f",
   "metadata": {},
   "outputs": [],
   "source": [
    "m = p.search(\"park 010-1234-1234\")"
   ]
  },
  {
   "cell_type": "code",
   "execution_count": 118,
   "id": "284ea117",
   "metadata": {},
   "outputs": [
    {
     "data": {
      "text/plain": [
       "<re.Match object; span=(0, 18), match='park 010-1234-1234'>"
      ]
     },
     "execution_count": 118,
     "metadata": {},
     "output_type": "execute_result"
    }
   ],
   "source": [
    "m"
   ]
  },
  {
   "cell_type": "code",
   "execution_count": 133,
   "id": "7368f62d",
   "metadata": {},
   "outputs": [
    {
     "name": "stdout",
     "output_type": "stream",
     "text": [
      "park 010-1234-1234\n"
     ]
    }
   ],
   "source": [
    "# 즉, m.group(0)은 정규 표현식 매치 객체에서 전체 매치된 문자열을 반환합니다\n",
    "print(m.group(0))"
   ]
  },
  {
   "cell_type": "code",
   "execution_count": null,
   "id": "3015ed81",
   "metadata": {},
   "outputs": [],
   "source": []
  }
 ],
 "metadata": {
  "kernelspec": {
   "display_name": "Python 3 (ipykernel)",
   "language": "python",
   "name": "python3"
  },
  "language_info": {
   "codemirror_mode": {
    "name": "ipython",
    "version": 3
   },
   "file_extension": ".py",
   "mimetype": "text/x-python",
   "name": "python",
   "nbconvert_exporter": "python",
   "pygments_lexer": "ipython3",
   "version": "3.9.12"
  }
 },
 "nbformat": 4,
 "nbformat_minor": 5
}
